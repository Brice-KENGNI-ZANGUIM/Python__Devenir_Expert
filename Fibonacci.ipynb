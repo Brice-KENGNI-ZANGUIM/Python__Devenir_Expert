{
 "cells": [
  {
   "cell_type": "code",
   "execution_count": null,
   "id": "4c96be82-f863-4f61-bc21-58ffa79eba2b",
   "metadata": {},
   "outputs": [],
   "source": [
    "def fibonacci(n) :\n",
    "    \n",
    "    if n <= 1 :\n",
    "        return n\n",
    "    else :\n",
    "        f_0 , f_1 = 0 , 1\n",
    "        for i in range(2, )"
   ]
  }
 ],
 "metadata": {
  "kernelspec": {
   "display_name": "Python 3 (ipykernel)",
   "language": "python",
   "name": "python3"
  },
  "language_info": {
   "codemirror_mode": {
    "name": "ipython",
    "version": 3
   },
   "file_extension": ".py",
   "mimetype": "text/x-python",
   "name": "python",
   "nbconvert_exporter": "python",
   "pygments_lexer": "ipython3",
   "version": "3.9.15"
  },
  "widgets": {
   "application/vnd.jupyter.widget-state+json": {
    "state": {},
    "version_major": 2,
    "version_minor": 0
   }
  }
 },
 "nbformat": 4,
 "nbformat_minor": 5
}
